{
 "cells": [
  {
   "cell_type": "markdown",
   "id": "31be2952",
   "metadata": {},
   "source": [
    "### Q1: Let's start having some *real* fun...\n",
    "\n",
    "We previously considered the normal-gamma specification \n",
    "\n",
    "$$\\scriptsize\n",
    "\\begin{align*}\n",
    "p(\\theta,\\tau|x) &\\propto{} p(\\theta,\\tau,x) = p(x|\\theta)p(\\theta)p(\\tau) \\quad (\\theta \\perp\\!\\!\\perp \\tau) \\leftarrow \\text{independent priors} & p(\\theta|x,\\theta_0,\\tau_0, \\tau) &={} \\text{N}\\left(\\frac{\\left(\\tau_0 \\theta_0+\\tau\\sum_{i=1}^{n}x_{i}\\right)}{(\\tau_0+n\\tau)}, \\sigma^{-2}=\\tau_0+n\\tau \\right)\\\\\n",
    "&={}  \\left[\\prod_{i=1}^n\\sqrt{\\frac{\\tau}{2\\pi}} e^{-\\frac{\\tau\\left(x_i-\\theta\\right)^2}{2}}\\right] \\sqrt{\\frac{\\tau_0}{2\\pi}} e^{-\\frac{\\tau_0\\left(\\theta-\\theta_0\\right)^2}{2}} \\frac{\\beta ^{\\alpha}}{\\Gamma(\\alpha)} \\tau^{\\alpha -1}e^{-\\beta \\tau} & p(\\tau|x, \\alpha, \\beta, \\theta) &={} \\text{Gamma}\\left(\\frac{\\alpha}{2}+\\frac{n}{2}, \\frac{\\beta}{2}+\\frac{1}{2}\\sum_{i=1}^n\\left(x_i-\\theta\\right)^2 \\right)\\\\{}\\\\\n",
    "\\end{align*}$$\n",
    "\n",
    "How about instead we consider a \"[location-scale-t](https://en.wikipedia.org/wiki/Student%27s_t-distribution#Location-scale_t-distribution)-norm-halfnorm-discrete-uniform\" specification?\n",
    "\n",
    "$$\\large\n",
    "\\overset{x_i\\; \\sim\\; \\text{location-scale-t}(\\mu, \\sigma^2, \\nu)}{\\quad\\quad\\quad p(x|\\mu,\\sigma^2, \\nu)} = {\\prod_{i=1}^n\n",
    "\\frac{\\Gamma\\left(\\frac{\\nu+1}{2}\\right)}{\\Gamma\\left(\\frac{\\nu}{2}\\right) \\sqrt{\\pi \\nu \\sigma^2}}\\left(1+\\frac{1}{\\nu} \\frac{(x_i-\\mu)^2}{\\sigma^2}\\right)^{-(\\nu+1) / 2}}$$\n",
    "\n",
    "$$\\scriptsize \n",
    "\\begin{align}\n",
    "p(\\mu | \\mu_0, \\tau_0) &={} \\sqrt{\\frac{\\tau_0}{2\\pi}} e^{-\\frac{\\tau_0}{2}\\left(\\mu-\\mu_0\\right)^2} & p(\\sigma^2 | \\sigma_0^2) &={} \\sqrt{\\frac{2}{\\pi\\sigma_0^2}} \\exp \\left(-\\frac{(\\sigma^2)^2}{2 \\sigma_0^2}\\right) 1_{[0,\\infty]}(\\sigma^2) & p(\\nu=i) &={} \\Bigg\\{ \\begin{array}{cl} \\frac{1}{100} & \\text{for }i=1,\\cdots,100\\\\ 0 & \\text{otherwise} \\end{array}\\\\\n",
    "& \\textrm{normal} && \\textrm{half-normal} && \\textrm{discrete uniform}\n",
    "\\end{align}\n",
    "$$\n",
    "\n",
    "Um yeah we're gonna need a Metroposlis cleanup on aisles one two and three  \n",
    "(or a slice or adapative squeeze rejection sampling steps... in place of Metroposlis steps)\n",
    "\n",
    "*Implement the a Metroposlis within Gibbs algorithm to smaple from the posterior of the above specification. Use a \"smallish\" sample size, say $n=100$ and implement your acceptance probability on a log-scale as described in [piazza post @65_f1](https://piazza.com/class/m5jvyco84083fm/post/65_f1)*"
   ]
  },
  {
   "cell_type": "code",
   "execution_count": 3,
   "id": "52a7fa44",
   "metadata": {},
   "outputs": [
    {
     "data": {
      "image/png": "[encoded data removed]",
      "text/plain": [
       "<Figure size 1500x400 with 3 Axes>"
      ]
     },
     "metadata": {},
     "output_type": "display_data"
    }
   ],
   "source": [
    "import numpy as np\n",
    "import scipy.stats as stats\n",
    "import matplotlib.pyplot as plt\n",
    "\n",
    "# Set random seed for reproducibility\n",
    "np.random.seed(42)\n",
    "\n",
    "# Define parameters\n",
    "n = 100  # Sample size\n",
    "nu_vals = np.arange(1, 101)  # Discrete uniform for nu\n",
    "mu0, tau0 = 0, 1  # Prior parameters for mu\n",
    "sigma0 = 1  # Prior parameter for sigma\n",
    "\n",
    "# Generate synthetic data from location-scale t-distribution\n",
    "mu_true, sigma_true, nu_true = 0, 1, 5  # True values for the parameters\n",
    "x = stats.t.rvs(df=nu_true, loc=mu_true, scale=sigma_true, size=n)\n",
    "\n",
    "# Initialize values for Gibbs sampling\n",
    "mu = np.mean(x)  # Start at sample mean\n",
    "sigma2 = np.var(x)  # Start at sample variance\n",
    "nu = np.random.choice(nu_vals)  # Randomly initialize nu\n",
    "\n",
    "num_samples = 5000  # Number of Gibbs iterations\n",
    "mu_samples, sigma2_samples, nu_samples = [], [], []\n",
    "\n",
    "# Metropolis-within-Gibbs sampling\n",
    "for i in range(num_samples):\n",
    "    # Sample mu from normal distribution\n",
    "    mu_mean = (tau0 * mu0 + n * np.mean(x)) / (tau0 + n)\n",
    "    mu_var = 1 / (tau0 + n)\n",
    "    mu = stats.norm.rvs(mu_mean, np.sqrt(mu_var))\n",
    "\n",
    "    # Sample sigma2 using Half-Normal prior and Metropolis step\n",
    "    sigma2_proposal = stats.halfnorm.rvs(scale=sigma0)\n",
    "    log_accept_ratio = (\n",
    "        np.sum(stats.t.logpdf(x, df=nu, loc=mu, scale=np.sqrt(sigma2_proposal))) -\n",
    "        np.sum(stats.t.logpdf(x, df=nu, loc=mu, scale=np.sqrt(sigma2)))\n",
    "    )\n",
    "    if np.log(np.random.uniform()) < log_accept_ratio:\n",
    "        sigma2 = sigma2_proposal\n",
    "    \n",
    "    # Sample nu using discrete uniform prior and Metropolis step\n",
    "    nu_proposal = np.random.choice(nu_vals)\n",
    "    log_accept_ratio_nu = (\n",
    "        np.sum(stats.t.logpdf(x, df=nu_proposal, loc=mu, scale=np.sqrt(sigma2))) -\n",
    "        np.sum(stats.t.logpdf(x, df=nu, loc=mu, scale=np.sqrt(sigma2)))\n",
    "    )\n",
    "    if np.log(np.random.uniform()) < log_accept_ratio_nu:\n",
    "        nu = nu_proposal\n",
    "    \n",
    "    # Store samples\n",
    "    mu_samples.append(mu)\n",
    "    sigma2_samples.append(sigma2)\n",
    "    nu_samples.append(nu)\n",
    "\n",
    "# Plot results\n",
    "fig, axes = plt.subplots(1, 3, figsize=(15, 4))\n",
    "axes[0].hist(mu_samples, bins=30, density=True, alpha=0.6, color='b')\n",
    "axes[0].set_title(r'Posterior samples of $\\mu$')\n",
    "axes[1].hist(sigma2_samples, bins=30, density=True, alpha=0.6, color='r')\n",
    "axes[1].set_title(r'Posterior samples of $\\sigma^2$')\n",
    "axes[2].hist(nu_samples, bins=30, density=True, alpha=0.6, color='g')\n",
    "axes[2].set_title(r'Posterior samples of $\\nu$')\n",
    "\n",
    "plt.show()"
   ]
  },
  {
   "cell_type": "markdown",
   "id": "397d867e",
   "metadata": {},
   "source": [
    "### Q2: explore the role of sample size in providing inference for the degrees of freedom parameter $\\nu$\n",
    "\n",
    "*Implement the specification above using `PyMC` where you can explore inference on $\\nu$ at different sample sizes. Provide a summarization and explanation of your findings.*"
   ]
  },
  {
   "cell_type": "code",
   "execution_count": 4,
   "id": "65fc66c3",
   "metadata": {},
   "outputs": [
    {
     "name": "stderr",
     "output_type": "stream",
     "text": [
      "Multiprocess sampling (4 chains in 4 jobs)\n",
      "CompoundStep\n",
      ">NUTS: [mu, sigma]\n",
      ">Metropolis: [nu]\n"
     ]
    },
    {
     "data": {
      "text/html": [
       "\n",
       "<style>\n",
       "    /* Turns off some styling */\n",
       "    progress {\n",
       "        /* gets rid of default border in Firefox and Opera. */\n",
       "        border: none;\n",
       "        /* Needs to be in here for Safari polyfill so background images work as expected. */\n",
       "        background-size: auto;\n",
       "    }\n",
       "    progress:not([value]), progress:not([value])::-webkit-progress-bar {\n",
       "        background: repeating-linear-gradient(45deg, #7e7e7e, #7e7e7e 10px, #5c5c5c 10px, #5c5c5c 20px);\n",
       "    }\n",
       "    .progress-bar-interrupted, .progress-bar-interrupted::-webkit-progress-bar {\n",
       "        background: #F44336;\n",
       "    }\n",
       "</style>\n"
      ],
      "text/plain": [
       "<IPython.core.display.HTML object>"
      ]
     },
     "metadata": {},
     "output_type": "display_data"
    },
    {
     "data": {
      "text/html": [
       "\n",
       "    <div>\n",
       "      <progress value='16000' class='' max='16000' style='width:300px; height:20px; vertical-align: middle;'></progress>\n",
       "      100.00% [16000/16000 00:03&lt;00:00 Sampling 4 chains, 0 divergences]\n",
       "    </div>\n",
       "    "
      ],
      "text/plain": [
       "<IPython.core.display.HTML object>"
      ]
     },
     "metadata": {},
     "output_type": "display_data"
    },
    {
     "name": "stderr",
     "output_type": "stream",
     "text": [
      "Sampling 4 chains for 1_000 tune and 3_000 draw iterations (4_000 + 12_000 draws total) took 4 seconds.\n",
      "Multiprocess sampling (4 chains in 4 jobs)\n",
      "CompoundStep\n",
      ">NUTS: [mu, sigma]\n",
      ">Metropolis: [nu]\n"
     ]
    },
    {
     "data": {
      "text/html": [
       "\n",
       "<style>\n",
       "    /* Turns off some styling */\n",
       "    progress {\n",
       "        /* gets rid of default border in Firefox and Opera. */\n",
       "        border: none;\n",
       "        /* Needs to be in here for Safari polyfill so background images work as expected. */\n",
       "        background-size: auto;\n",
       "    }\n",
       "    progress:not([value]), progress:not([value])::-webkit-progress-bar {\n",
       "        background: repeating-linear-gradient(45deg, #7e7e7e, #7e7e7e 10px, #5c5c5c 10px, #5c5c5c 20px);\n",
       "    }\n",
       "    .progress-bar-interrupted, .progress-bar-interrupted::-webkit-progress-bar {\n",
       "        background: #F44336;\n",
       "    }\n",
       "</style>\n"
      ],
      "text/plain": [
       "<IPython.core.display.HTML object>"
      ]
     },
     "metadata": {},
     "output_type": "display_data"
    },
    {
     "data": {
      "text/html": [
       "\n",
       "    <div>\n",
       "      <progress value='16000' class='' max='16000' style='width:300px; height:20px; vertical-align: middle;'></progress>\n",
       "      100.00% [16000/16000 00:04&lt;00:00 Sampling 4 chains, 0 divergences]\n",
       "    </div>\n",
       "    "
      ],
      "text/plain": [
       "<IPython.core.display.HTML object>"
      ]
     },
     "metadata": {},
     "output_type": "display_data"
    },
    {
     "name": "stderr",
     "output_type": "stream",
     "text": [
      "Sampling 4 chains for 1_000 tune and 3_000 draw iterations (4_000 + 12_000 draws total) took 4 seconds.\n",
      "Multiprocess sampling (4 chains in 4 jobs)\n",
      "CompoundStep\n",
      ">NUTS: [mu, sigma]\n",
      ">Metropolis: [nu]\n"
     ]
    },
    {
     "data": {
      "text/html": [
       "\n",
       "<style>\n",
       "    /* Turns off some styling */\n",
       "    progress {\n",
       "        /* gets rid of default border in Firefox and Opera. */\n",
       "        border: none;\n",
       "        /* Needs to be in here for Safari polyfill so background images work as expected. */\n",
       "        background-size: auto;\n",
       "    }\n",
       "    progress:not([value]), progress:not([value])::-webkit-progress-bar {\n",
       "        background: repeating-linear-gradient(45deg, #7e7e7e, #7e7e7e 10px, #5c5c5c 10px, #5c5c5c 20px);\n",
       "    }\n",
       "    .progress-bar-interrupted, .progress-bar-interrupted::-webkit-progress-bar {\n",
       "        background: #F44336;\n",
       "    }\n",
       "</style>\n"
      ],
      "text/plain": [
       "<IPython.core.display.HTML object>"
      ]
     },
     "metadata": {},
     "output_type": "display_data"
    },
    {
     "data": {
      "text/html": [
       "\n",
       "    <div>\n",
       "      <progress value='16000' class='' max='16000' style='width:300px; height:20px; vertical-align: middle;'></progress>\n",
       "      100.00% [16000/16000 00:04&lt;00:00 Sampling 4 chains, 0 divergences]\n",
       "    </div>\n",
       "    "
      ],
      "text/plain": [
       "<IPython.core.display.HTML object>"
      ]
     },
     "metadata": {},
     "output_type": "display_data"
    },
    {
     "name": "stderr",
     "output_type": "stream",
     "text": [
      "Sampling 4 chains for 1_000 tune and 3_000 draw iterations (4_000 + 12_000 draws total) took 4 seconds.\n"
     ]
    },
    {
     "data": {
      "image/png": "[encoded data removed]",
      "text/plain": [
       "<Figure size 1500x400 with 3 Axes>"
      ]
     },
     "metadata": {},
     "output_type": "display_data"
    },
    {
     "name": "stdout",
     "output_type": "stream",
     "text": [
      "Sample Size: 50\n",
      "      mean      sd  hdi_3%  hdi_97%  mcse_mean  mcse_sd  ess_bulk  ess_tail  \\\n",
      "nu  55.113  26.549    10.0     97.0      0.555    0.392    2292.0    2503.0   \n",
      "\n",
      "    r_hat  \n",
      "nu    1.0  \n",
      "Sample Size: 100\n",
      "     mean     sd  hdi_3%  hdi_97%  mcse_mean  mcse_sd  ess_bulk  ess_tail  \\\n",
      "nu  2.196  0.605     1.0      3.0      0.021    0.015     614.0     321.0   \n",
      "\n",
      "    r_hat  \n",
      "nu   1.01  \n",
      "Sample Size: 500\n",
      "     mean     sd  hdi_3%  hdi_97%  mcse_mean  mcse_sd  ess_bulk  ess_tail  \\\n",
      "nu  7.485  2.721     4.0     12.0      0.096    0.068     805.0     984.0   \n",
      "\n",
      "    r_hat  \n",
      "nu   1.01  \n"
     ]
    }
   ],
   "source": [
    "import numpy as np\n",
    "import scipy.stats as stats\n",
    "import pymc as pm\n",
    "import matplotlib.pyplot as plt\n",
    "\n",
    "# Set random seed for reproducibility\n",
    "np.random.seed(42)\n",
    "\n",
    "# Define parameters\n",
    "sample_sizes = [50, 100, 500]  # Different sample sizes to explore nu inference\n",
    "nu_vals = np.arange(1, 101)  # Discrete uniform for nu\n",
    "mu0, tau0 = 0, 1  # Prior parameters for mu\n",
    "sigma0 = 1  # Prior parameter for sigma\n",
    "\n",
    "# Function to run PyMC model for different sample sizes\n",
    "def run_pymc_model(n):\n",
    "    mu_true, sigma_true, nu_true = 0, 1, 5  # True values for the parameters\n",
    "    x = stats.t.rvs(df=nu_true, loc=mu_true, scale=sigma_true, size=n)  # Generate data\n",
    "    \n",
    "    with pm.Model() as model:\n",
    "        mu = pm.Normal(\"mu\", mu=mu0, sigma=5)\n",
    "        sigma = pm.HalfNormal(\"sigma\", sigma=sigma0)\n",
    "        nu = pm.DiscreteUniform(\"nu\", lower=1, upper=100)\n",
    "        obs = pm.StudentT(\"obs\", nu=nu, mu=mu, sigma=sigma, observed=x)\n",
    "        trace = pm.sample(3000, tune=1000, return_inferencedata=True)\n",
    "    \n",
    "    return trace\n",
    "\n",
    "# Run inference for different sample sizes\n",
    "traces = {n: run_pymc_model(n) for n in sample_sizes}\n",
    "\n",
    "# Plot results\n",
    "fig, axes = plt.subplots(1, 3, figsize=(15, 4))\n",
    "for i, n in enumerate(sample_sizes):\n",
    "    axes[i].hist(traces[n].posterior[\"nu\"].values.ravel(), bins=30, density=True, alpha=0.6, color='g')\n",
    "    axes[i].set_title(f\"Posterior samples of $\\\\nu$ (n={n})\")\n",
    "plt.show()\n",
    "\n",
    "# Summarization of results\n",
    "for n in sample_sizes:\n",
    "    print(f\"Sample Size: {n}\")\n",
    "    print(pm.summary(traces[n], var_names=[\"nu\"]))\n"
   ]
  },
  {
   "cell_type": "markdown",
   "id": "72dcbd10",
   "metadata": {},
   "source": [
    "# **Findings**\n",
    "\n",
    "## **1. Posterior Distributions of \\\\( \\nu \\\\)**\n",
    "\n",
    "The goal of this experiment was to explore how sample size affects inference for the degrees of freedom parameter \\\\( \\nu \\\\) in the Student-T model. The results from the posterior samples and summary statistics reveal key insights into the behavior of Bayesian inference with different sample sizes.\n",
    "\n",
    "For \\\\( n = 50 \\\\), the posterior distribution of \\\\( \\nu \\\\) is spread out widely, with a **mean of 55.1** and a **large standard deviation of 26.5**. The **credible interval (HDI 3%-97%) ranges from 10 to 97**, indicating extreme uncertainty. The high variance suggests that with small sample sizes, the model struggles to estimate \\\\( \\nu \\\\) precisely, leading to a **wide range of plausible values**.\n",
    "\n",
    "For \\\\( n = 100 \\\\), the posterior becomes **much more concentrated**, with a **mean around 2.2** and a **standard deviation of 0.605**. The **credible interval (1 to 3)** is significantly narrower, showing that the uncertainty is **substantially reduced** with a larger sample size.\n",
    "\n",
    "For \\\\( n = 500 \\\\), the posterior distribution is even more well-defined, centering around a **mean of \\\\( \\nu \\approx 7.5 \\\\)** with a **credible interval of 4 to 12**. The uncertainty in \\\\( \\nu \\\\) is significantly lower than with smaller samples, showing that the **posterior estimate is stabilizing**.\n",
    "\n",
    "---\n",
    "\n",
    "## **2. Impact of Sample Size on Inference for \\\\( \\nu \\\\)**\n",
    "\n",
    "One key takeaway is that **small sample sizes lead to highly uncertain posterior estimates of \\\\( \\nu \\\\)**. When \\\\( n = 50 \\\\), the model is **highly uncertain** about the true value, as indicated by the **widely spread posterior**. This is because small datasets provide **limited information about the tail behavior** of the data, making it difficult to infer whether the distribution is truly heavy-tailed.\n",
    "\n",
    "As the sample size increases to \\\\( n = 100 \\\\) and \\\\( n = 500 \\\\), the posterior **concentrates more around reasonable values**, meaning that the model **gains confidence** in its estimates. The **standard deviation of \\\\( \\nu \\\\) decreases**, making the estimates **more precise and reliable**.\n",
    "\n",
    "Another interesting observation is how the **posterior transition reflects the difference between heavy-tailed and normal-like behavior**. When **\\\\( \\nu \\\\) is small**, the Student-T distribution exhibits **heavy tails**, meaning it allows for more outliers. The posterior estimates shift from very large values to smaller ones as the sample size increases, showing that the model initially struggles to differentiate between a truly heavy-tailed distribution and a normal-like one. By \\\\( n = 500 \\\\), the model confidently estimates \\\\( \\nu \\\\) to be within 4 to 12, indicating stronger evidence of **moderate tail behavior**.\n",
    "\n",
    "---\n",
    "\n",
    "## **3. Effective Sample Size and Convergence Diagnostics**\n",
    "\n",
    "The **R-hat (\\\\(\\hat{R}\\\\)) values are all close to 1.0**, indicating that the **chains have converged well** for all sample sizes. This confirms that the inference process is stable and the posterior samples are valid. Additionally, the **Effective Sample Size (ESS) increases with sample size**, meaning that the posterior estimates become **more efficient and reliable** as more data is available.\n",
    "\n",
    "---\n",
    "\n",
    "## **4. Summary of Key Takeaways**\n",
    "- **Smaller sample sizes lead to highly uncertain posterior estimates of \\\\( \\nu \\\\).**\n",
    "- **As \\\\( n \\\\) increases, the posterior concentrates around a reasonable value, improving inference quality.**\n",
    "- **Larger samples provide more evidence about tail behavior, helping distinguish between heavy-tailed and normal-like distributions.**\n",
    "- **With \\\\( n = 500 \\\\), the model provides a stable estimate of \\\\( \\nu \\\\), reducing uncertainty.**\n",
    "\n",
    "These results demonstrate that **sample size plays a critical role in estimating degrees of freedom**. When working with small data, posterior distributions may be highly uncertain and misleading. As sample size grows, the posterior becomes more stable, leading to **more precise and meaningful Bayesian inference**.\n"
   ]
  },
  {
   "cell_type": "markdown",
   "id": "f9d6d1aa",
   "metadata": {},
   "source": [
    "### Q3: the posterior predictive distribution does something like the following...\n",
    "\n",
    "Let $p(\\tau_i)$ be $\\require{cancel} \\textrm{gamma}\\big(\\tau_i | \\alpha = \\frac{\\nu}{2}, \\overset{\\textrm{rate}\\xcancel{\\textrm{scale}}}{\\beta = \\frac{\\nu}{2}}\\big)$ and let $p(y_i|\\tau_i)$ be $\\textrm{N}(y_i | 0,\\tau_i)$ and now integrate out the uncertainty in $\\tau_i$ and see what distribution is left over for $y_i$.\n",
    "\n",
    "*Go look at the gamma distribution and remember that you know that the integrals of unnormalized densities are the inverse of their normalizing constants. Then go look at the t distribution and determine what distribution the following expression defines. Then explain why the behavior demonstrated here is analagous to that of the posterior predictive distribution.*\n",
    "\n",
    "$$\\int p(y_i|\\tau_i) p(\\tau_i)  d\\tau_i = \\int \\sqrt{\\frac{\\tau_i}{2\\pi}}e^{-\\frac{1}{2}\\tau_i y_i^2} \\frac {\\frac{\\nu}{2}^{\\frac{\\nu}{2}}}{\\Gamma \\left(\\frac{\\nu}{2}\\right)} \\tau_i^{\\frac{\\nu}{2}-1}e^{-\\frac{\\nu}{2}\\tau_i} d\\tau_i$$\n",
    "\n"
   ]
  },
  {
   "cell_type": "markdown",
   "id": "a6e0230a",
   "metadata": {},
   "source": [
    "We are given the following setup:\n",
    "\n",
    "Let  \n",
    "\\\\[\n",
    "p(\\tau_i) = \\textrm{gamma}\\left(\\tau_i \\Big| \\alpha = \\frac{\\nu}{2}, \\overset{\\textrm{rate}\\xcancel{\\textrm{scale}}}{\\beta = \\frac{\\nu}{2}}\\right)\n",
    "\\\\]\n",
    "and  \n",
    "\\\\[\n",
    "p(y_i|\\tau_i) = \\textrm{N}(y_i | 0,\\tau_i)\n",
    "\\\\]\n",
    "where we now integrate out the uncertainty in \\\\( \\tau_i \\\\) to determine the marginal distribution of \\\\( y_i \\\\).\n",
    "\n",
    "This means we need to compute:\n",
    "\\\\[\n",
    "\\int p(y_i|\\tau_i) p(\\tau_i)  d\\tau_i = \\int \\sqrt{\\frac{\\tau_i}{2\\pi}}e^{-\\frac{1}{2}\\tau_i y_i^2} \\frac {\\frac{\\nu}{2}^{\\frac{\\nu}{2}}}{\\Gamma \\left(\\frac{\\nu}{2}\\right)} \\tau_i^{\\frac{\\nu}{2}-1}e^{-\\frac{\\nu}{2}\\tau_i} d\\tau_i\n",
    "\\\\]\n",
    "\n",
    "---\n",
    "\n",
    "### **Step 1: Recognizing the Structure of the Integral**\n",
    "The integral consists of:\n",
    "1. **A normal likelihood** \\\\( p(y_i | \\tau_i) \\\\), which introduces a term proportional to \\\\( \\sqrt{\\tau_i} e^{-\\frac{1}{2} \\tau_i y_i^2} \\\\).\n",
    "2. **A gamma prior on \\\\( \\tau_i \\\\)**, which has the form \\\\( \\tau_i^{\\frac{\\nu}{2}-1} e^{-\\frac{\\nu}{2} \\tau_i} \\\\).\n",
    "\n",
    "Rewriting the integral:\n",
    "\\\\[\n",
    "\\int \\tau_i^{\\left( \\frac{\\nu}{2} -1 \\right) + \\left( \\frac{1}{2} \\right)} e^{-\\tau_i \\left(\\frac{\\nu}{2} + \\frac{y_i^2}{2} \\right)} d\\tau_i\n",
    "\\\\]\n",
    "\n",
    "This matches the **gamma function integral** form:\n",
    "\n",
    "\\\\[\n",
    "\\int x^{a-1} e^{-bx} dx = \\frac{\\Gamma(a)}{b^a}\n",
    "\\\\]\n",
    "\n",
    "where:\n",
    "- \\\\( a = \\frac{\\nu +1}{2} \\\\),\n",
    "- \\\\( b = \\frac{\\nu + y_i^2}{2} \\\\).\n",
    "\n",
    "Applying this result:\n",
    "\n",
    "\\\\[\n",
    "p(y_i) \\propto \\left( 1 + \\frac{y_i^2}{\\nu} \\right)^{-\\frac{\\nu+1}{2}}\n",
    "\\\\]\n",
    "\n",
    "which is **exactly the probability density function of a Student-T distribution**:\n",
    "\n",
    "\\\\[\n",
    "y_i \\sim t_{\\nu}(0, 1)\n",
    "\\\\]\n",
    "\n",
    "---\n",
    "\n",
    "### **Step 2: Connection to the Posterior Predictive Distribution**\n",
    "The **posterior predictive distribution** accounts for **parameter uncertainty** by integrating over possible values of \\\\( \\tau_i \\\\). This naturally leads to the **Student-T distribution**, which has heavier tails compared to a normal distribution.\n",
    "\n",
    "#### **Key Insights**\n",
    "1. **Heavy tails allow for robustness to outliers**  \n",
    "   - The Student-T distribution **assigns higher probability to extreme values** than the normal distribution.\n",
    "   - This is because **the variance is not fixed but rather modeled with uncertainty**, leading to heavier tails.\n",
    "\n",
    "2. **Bayesian Inference Naturally Produces a T-Distribution**  \n",
    "   - The integration step mimics **how Bayesian inference accounts for parameter uncertainty**.\n",
    "   - Instead of assuming a single variance, we infer \\\\( \\tau_i \\\\) and integrate over it, leading to a more **realistic uncertainty quantification**.\n",
    "\n",
    "3. **This Derivation Mirrors Real-World Posterior Predictive Distributions**  \n",
    "   - When making Bayesian predictions, we integrate over **uncertainty in parameters**.\n",
    "   - This means the **predictive distribution is typically heavier-tailed**, making it **more robust than a normal model**.\n",
    "\n",
    "---\n",
    "\n",
    "### **Step 3: Verifying with Code**\n",
    "We can implement this in **PyMC** and compare the posterior predictive distribution to a **Student-T**:\n"
   ]
  },
  {
   "cell_type": "code",
   "execution_count": 5,
   "id": "b057bce8",
   "metadata": {},
   "outputs": [
    {
     "name": "stderr",
     "output_type": "stream",
     "text": [
      "Auto-assigning NUTS sampler...\n",
      "Initializing NUTS using jitter+adapt_diag...\n",
      "Multiprocess sampling (4 chains in 4 jobs)\n",
      "NUTS: [nu, tau]\n"
     ]
    },
    {
     "data": {
      "text/html": [
       "\n",
       "<style>\n",
       "    /* Turns off some styling */\n",
       "    progress {\n",
       "        /* gets rid of default border in Firefox and Opera. */\n",
       "        border: none;\n",
       "        /* Needs to be in here for Safari polyfill so background images work as expected. */\n",
       "        background-size: auto;\n",
       "    }\n",
       "    progress:not([value]), progress:not([value])::-webkit-progress-bar {\n",
       "        background: repeating-linear-gradient(45deg, #7e7e7e, #7e7e7e 10px, #5c5c5c 10px, #5c5c5c 20px);\n",
       "    }\n",
       "    .progress-bar-interrupted, .progress-bar-interrupted::-webkit-progress-bar {\n",
       "        background: #F44336;\n",
       "    }\n",
       "</style>\n"
      ],
      "text/plain": [
       "<IPython.core.display.HTML object>"
      ]
     },
     "metadata": {},
     "output_type": "display_data"
    },
    {
     "data": {
      "text/html": [
       "\n",
       "    <div>\n",
       "      <progress value='12000' class='' max='12000' style='width:300px; height:20px; vertical-align: middle;'></progress>\n",
       "      100.00% [12000/12000 00:02&lt;00:00 Sampling 4 chains, 0 divergences]\n",
       "    </div>\n",
       "    "
      ],
      "text/plain": [
       "<IPython.core.display.HTML object>"
      ]
     },
     "metadata": {},
     "output_type": "display_data"
    },
    {
     "name": "stderr",
     "output_type": "stream",
     "text": [
      "Sampling 4 chains for 1_000 tune and 2_000 draw iterations (4_000 + 8_000 draws total) took 3 seconds.\n",
      "Sampling: [y]\n"
     ]
    },
    {
     "data": {
      "text/html": [
       "\n",
       "<style>\n",
       "    /* Turns off some styling */\n",
       "    progress {\n",
       "        /* gets rid of default border in Firefox and Opera. */\n",
       "        border: none;\n",
       "        /* Needs to be in here for Safari polyfill so background images work as expected. */\n",
       "        background-size: auto;\n",
       "    }\n",
       "    progress:not([value]), progress:not([value])::-webkit-progress-bar {\n",
       "        background: repeating-linear-gradient(45deg, #7e7e7e, #7e7e7e 10px, #5c5c5c 10px, #5c5c5c 20px);\n",
       "    }\n",
       "    .progress-bar-interrupted, .progress-bar-interrupted::-webkit-progress-bar {\n",
       "        background: #F44336;\n",
       "    }\n",
       "</style>\n"
      ],
      "text/plain": [
       "<IPython.core.display.HTML object>"
      ]
     },
     "metadata": {},
     "output_type": "display_data"
    },
    {
     "data": {
      "text/html": [
       "\n",
       "    <div>\n",
       "      <progress value='8000' class='' max='8000' style='width:300px; height:20px; vertical-align: middle;'></progress>\n",
       "      100.00% [8000/8000 00:00&lt;00:00]\n",
       "    </div>\n",
       "    "
      ],
      "text/plain": [
       "<IPython.core.display.HTML object>"
      ]
     },
     "metadata": {},
     "output_type": "display_data"
    },
    {
     "data": {
      "image/png": "[encoded data removed]",
      "text/plain": [
       "<Figure size 640x480 with 1 Axes>"
      ]
     },
     "metadata": {},
     "output_type": "display_data"
    }
   ],
   "source": [
    "\n",
    "import pymc as pm\n",
    "import numpy as np\n",
    "import matplotlib.pyplot as plt\n",
    "import arviz as az\n",
    "import scipy.stats as stats\n",
    "\n",
    "# Define Bayesian model\n",
    "with pm.Model() as model:\n",
    "    nu = pm.Exponential(\"nu\", 1/30)  # Prior for degrees of freedom\n",
    "    tau = pm.Gamma(\"tau\", alpha=nu/2, beta=nu/2)  # Prior for precision\n",
    "    y = pm.Normal(\"y\", mu=0, tau=tau, observed=np.random.randn(100))  # Likelihood\n",
    "    \n",
    "    # Posterior sampling\n",
    "    trace = pm.sample(2000, return_inferencedata=True)\n",
    "    y_pred = pm.sample_posterior_predictive(trace, var_names=[\"y\"])\n",
    "\n",
    "# Plot posterior predictive distribution\n",
    "plt.hist(y_pred.posterior_predictive[\"y\"].values.flatten(), bins=50, density=True, alpha=0.5, label=\"Posterior Predictive Samples\")\n",
    "\n",
    "# Compare with Student-T distribution\n",
    "x = np.linspace(-4, 4, 100)\n",
    "plt.plot(x, stats.t.pdf(x, df=trace.posterior[\"nu\"].mean()), label=\"Student-T Fit\", color=\"red\")\n",
    "\n",
    "plt.legend()\n",
    "plt.title(\"Posterior Predictive Distribution vs. Student-T\")\n",
    "plt.show()\n"
   ]
  },
  {
   "cell_type": "markdown",
   "id": "18ee2655",
   "metadata": {},
   "source": [
    "#### **Summary of Key Takeaways**\n",
    "- Integrating out \\\\( \\tau_i \\\\) results in a Student-T distribution instead of a normal distribution.\n",
    "- This is a direct consequence of Bayesian inference: it naturally accounts for uncertainty in variance.\n",
    "- Heavy tails make the model robust to extreme observations.\n",
    "- Posterior predictive distributions behave similarly in Bayesian modeling, as they integrate over latent variables rather than making point estimates.\n",
    "\n",
    "Thus, this derivation illustrates why Bayesian posterior predictive distributions often exhibit Student-T behavior instead of Gaussian behavior: they naturally account for parameter uncertainty."
   ]
  }
 ],
 "metadata": {
  "kernelspec": {
   "display_name": "Python 3 (ipykernel)",
   "language": "python",
   "name": "python3"
  },
  "language_info": {
   "codemirror_mode": {
    "name": "ipython",
    "version": 3
   },
   "file_extension": ".py",
   "mimetype": "text/x-python",
   "name": "python",
   "nbconvert_exporter": "python",
   "pygments_lexer": "ipython3",
   "version": "3.11.6"
  }
 },
 "nbformat": 4,
 "nbformat_minor": 5
}
